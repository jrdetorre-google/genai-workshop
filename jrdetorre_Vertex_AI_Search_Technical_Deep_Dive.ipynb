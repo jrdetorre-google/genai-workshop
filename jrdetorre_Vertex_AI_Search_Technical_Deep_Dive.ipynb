{
  "cells": [
    {
      "cell_type": "markdown",
      "id": "07798920-bf43-4019-b51f-d4307d4abcf1",
      "metadata": {
        "id": "07798920-bf43-4019-b51f-d4307d4abcf1"
      },
      "source": [
        "# Vertex AI Search - Technical Deep Dive - Lab Exercise\n",
        "\n",
        "The purpose of this lab is to explore the use of the client libraries and APIs in Vertex AI Search and the Langchain LLM integrations and retrievers for Enterprise Search and Vertex AI.\n",
        "\n",
        "You'll use these tools to build a question and answer service that takes a user query, retrieves relevant documents from a search data store in Gen App Builder, then returns an LLM-generated answer to the original query along with source documents that were used to generate the answer.\n",
        "\n",
        "Helpful resources for the lab coding exercise:\n",
        "\n",
        "- [Vertex AI Search Code Samples (Documentation)](https://cloud.google.com/generative-ai-app-builder/docs/samples)\n",
        "- [Question Answering Over Documents (GitHub)](https://github.com/GoogleCloudPlatform/generative-ai/blob/main/gen-app-builder/retrieval-augmented-generation/examples/question_answering.ipynb)\n",
        "- [Grounding Generative AI using Vertex AI Search Results (Colab)](https://colab.research.google.com/drive/174YYPNNy1rWdIFvV-_LWZ-cueRB7Q6EC?resourcekey=0-9bYTUjXMbEkHIuduaNjNJw&usp=sharing)\n",
        "- [Vertex AI Search - Search Web App (GitHub)](https://github.com/GoogleCloudPlatform/generative-ai/tree/main/gen-app-builder/search-web-app)\n",
        "\n",
        "# Coding exercise (Technical asset)\n",
        "\n",
        "## Step 1\n",
        "\n",
        "As a first step, you must create an unstructured data search app that uses PDFs data and get de data_store_id that will be used later.\n"
      ]
    },
    {
      "cell_type": "markdown",
      "id": "-AO7-uvKab5e",
      "metadata": {
        "id": "-AO7-uvKab5e"
      },
      "source": [
        "**DONE?** :)"
      ]
    },
    {
      "cell_type": "markdown",
      "id": "a39aeb7a-c5b6-4086-9045-3811ea41f878",
      "metadata": {
        "id": "a39aeb7a-c5b6-4086-9045-3811ea41f878"
      },
      "source": [
        "## Step 2\n",
        "\n",
        "Install the Vertex AI and Langchain 0.0.236 (newer versions are broken as of 2023-08-10) client libraries for Python:"
      ]
    },
    {
      "cell_type": "code",
      "execution_count": 1,
      "id": "748b3fc0-05b8-4177-aac1-1122c1eda481",
      "metadata": {
        "id": "748b3fc0-05b8-4177-aac1-1122c1eda481",
        "executionInfo": {
          "status": "ok",
          "timestamp": 1700442549871,
          "user_tz": -60,
          "elapsed": 7342,
          "user": {
            "displayName": "",
            "userId": ""
          }
        }
      },
      "outputs": [],
      "source": [
        "# Install packages\n",
        "# Note: You might need to restart the runtime after installing these packages\n",
        "!pip install google-cloud-discoveryengine google-cloud-aiplatform langchain==0.0.236 \"shapely<2.0.0\" -q"
      ]
    },
    {
      "cell_type": "code",
      "source": [
        "!pip install gradio==3.48.0 -q"
      ],
      "metadata": {
        "id": "AxK1bWn2K3e4",
        "executionInfo": {
          "status": "ok",
          "timestamp": 1700442557653,
          "user_tz": -60,
          "elapsed": 7785,
          "user": {
            "displayName": "",
            "userId": ""
          }
        }
      },
      "id": "AxK1bWn2K3e4",
      "execution_count": 2,
      "outputs": []
    },
    {
      "cell_type": "markdown",
      "id": "aywVLgBGis9x",
      "metadata": {
        "id": "aywVLgBGis9x"
      },
      "source": [
        "Next code will restart your Runtime\n",
        "\n"
      ]
    },
    {
      "cell_type": "code",
      "execution_count": 3,
      "id": "inIUNlEGYdoa",
      "metadata": {
        "id": "inIUNlEGYdoa",
        "executionInfo": {
          "status": "ok",
          "timestamp": 1700442564595,
          "user_tz": -60,
          "elapsed": 2,
          "user": {
            "displayName": "",
            "userId": ""
          }
        }
      },
      "outputs": [],
      "source": [
        "import os\n",
        "import sys\n",
        "\n",
        "if \"google.colab\" in sys.modules:\n",
        "    from google.colab import auth as google_auth\n",
        "\n",
        "    google_auth.authenticate_user()"
      ]
    },
    {
      "cell_type": "code",
      "source": [
        "# Authenticate with Google account\n",
        "from google.colab import auth as google_auth\n",
        "google_auth.authenticate_user()"
      ],
      "metadata": {
        "id": "4XOJ6ts3E0Jd",
        "executionInfo": {
          "status": "ok",
          "timestamp": 1700442567215,
          "user_tz": -60,
          "elapsed": 20,
          "user": {
            "displayName": "",
            "userId": ""
          }
        }
      },
      "id": "4XOJ6ts3E0Jd",
      "execution_count": 4,
      "outputs": []
    },
    {
      "cell_type": "code",
      "execution_count": 5,
      "id": "5cc27275-46ce-4455-93e2-3fb4798e0a00",
      "metadata": {
        "id": "5cc27275-46ce-4455-93e2-3fb4798e0a00",
        "executionInfo": {
          "status": "ok",
          "timestamp": 1700442567215,
          "user_tz": -60,
          "elapsed": 18,
          "user": {
            "displayName": "",
            "userId": ""
          }
        }
      },
      "outputs": [],
      "source": [
        "from os.path import basename\n",
        "from typing import Dict, List, Optional, Tuple, Any"
      ]
    },
    {
      "cell_type": "markdown",
      "id": "f45fbdee-f84f-4b2b-856f-92c665b12667",
      "metadata": {
        "id": "f45fbdee-f84f-4b2b-856f-92c665b12667"
      },
      "source": [
        "## Step 3\n",
        "\n",
        "Use the [Enterprise Search document retriever in LangChain](https://python.langchain.com/docs/integrations/retrievers/google_cloud_enterprise_search) to retrieve documents from your data store based on a query.\n",
        "\n",
        "Sample query: “What are Alphabet's social and environmental impact?”"
      ]
    },
    {
      "cell_type": "code",
      "execution_count": 17,
      "id": "ab5bfaf5-afb2-4aab-93ab-dbe4018b62ee",
      "metadata": {
        "id": "ab5bfaf5-afb2-4aab-93ab-dbe4018b62ee",
        "cellView": "form",
        "executionInfo": {
          "status": "ok",
          "timestamp": 1700442793297,
          "user_tz": -60,
          "elapsed": 1492,
          "user": {
            "displayName": "",
            "userId": ""
          }
        }
      },
      "outputs": [],
      "source": [
        "# @title Configuration Variables\n",
        "PROJECT_ID = \"qwiklabs-gcp-01-1ca9ffcb2245\" # @param {type:\"string\"}\n",
        "LOCATION = \"us-central1\" # @param {type:\"string\"}\n",
        "DATA_STORE_ID = \"nh-nofinanciera_1700442192371\" # @param {type:\"string\"}"
      ]
    },
    {
      "cell_type": "code",
      "execution_count": 37,
      "id": "4412c8ca-4b7e-44d2-8678-27abe92cab64",
      "metadata": {
        "id": "4412c8ca-4b7e-44d2-8678-27abe92cab64",
        "colab": {
          "base_uri": "https://localhost:8080/"
        },
        "executionInfo": {
          "status": "ok",
          "timestamp": 1700443114428,
          "user_tz": -60,
          "elapsed": 2,
          "user": {
            "displayName": "",
            "userId": ""
          }
        },
        "outputId": "9d2b5454-d48b-4886-d832-dd79004de659"
      },
      "outputs": [
        {
          "output_type": "stream",
          "name": "stdout",
          "text": [
            "page_content='ÍNDICE\\n\\nNUESTRA PRESENCIA EN EL MUNDO 2022\\n\\n99\\n\\nSOBRE EL ESTADO DE INFORMACIÓN NO FINANCIERA CONSOLIDADO\\n\\n100\\n\\nTAXONOMÍA DE ACTIVIDADES SOSTENIBLES DE LA UNIÓN EUROPEA\\n\\n102\\n\\nMENSAJE DEL PRESIDENTE Y DEL CEO\\n\\n108\\n\\n• Mensaje del presidente\\n\\n108\\n\\n• Mensaje del CEO\\n\\n110\\n\\nHITOS 2022\\n\\n113\\n\\nNUESTRA VISIÓN Y CULTURA\\n\\n114\\n\\nMODELO DE NEGOCIO DE NH HOTEL GROUP\\n\\n116\\n\\nESTRATEGIA DE NH HOTEL GROUP\\n\\n121\\n\\nGOBIERNO CORPORATIVO\\n\\n123\\n\\n• Consejo de Administración de NH Hotel Group\\n\\n123\\n\\n• Comisiones del Consejo\\n\\n124\\n\\n• Comité de Dirección\\n\\n126\\n\\n• Remuneración del Consejo y de la Alta Dirección\\n\\n127\\n\\n• Estructura Accionarial\\n\\n128\\n\\nCOMPROMISO ÉTICO Y SISTEMA DE CUMPLIMIENTO\\n\\n130\\n\\nTRANSPARENCIA FISCAL: BENEFICIOS E IMPUESTOS\\n\\n136\\n\\nRELACIÓN CON LOS GOBIERNOS E INFLUENCIA POLÍTICA\\n\\n140\\n\\nSEGURIDAD DE LA INFORMACIÓN\\n\\n141\\n\\nPROTECCIÓN DE LOS DERECHOS HUMANOS\\n\\n144\\n\\n• Debida diligencia de los Derechos Humanos\\n\\n146\\n\\nGESTIÓN DE RIESGOS\\n\\n148\\n\\nRESPUESTA DE NH HOTEL GROUP FRENTE A LOS RIESGOS Y\\nOPORTUNIDADES ASOCIADAS AL CAMBIO CLIMÁTICO EN BASE AL\\nTASK FORCE ON CLIMATE-RELATED FINANCIAL DISCLOSURE (TCFD)\\n\\n163\\n\\nESTRATEGIA DE SUSTAINABLE BUSINESS\\n\\n172\\n\\n• Gobierno de Sustainable Business\\n\\n173\\n\\n• Análisis de Materialidad\\n\\n176\\n\\n• Creación de valor para nuestros grupos de Interés\\n\\n181\\n\\nNH HOTEL GROUP Y LA AGENDA 2030\\n\\n188\\n\\nUP FOR PLANET\\n\\n189\\n\\nPRODUCTOS Y ACTIVOS SOSTENIBLES\\n\\n191\\n\\n• Programa de certificación ambiental\\n\\n191\\n\\n• Plan SBT 2030\\n\\n193\\n\\n• Plan de eficiencia energética\\n\\n196\\n\\nPROCESOS Y ESTÁNDARES OPERATIVOS\\n\\n197\\n\\n• Gestión responsable de la energía\\n\\n197\\n\\n• Gestión responsable del agua\\n\\n199\\n\\n• Gestión de residuos y economía circular\\n\\n200\\n\\n• Gestión de la biodiversidad\\n\\n201\\n\\nESTADO DE INFORMACIÓN NO FINANCIERA CONSOLIDADO 2022\\nMEMORIA DE SOSTENIBILIDAD\\n\\n97' metadata={'source': 'gs://nh-nofinanciera/EINF_NH-Hotel-Group-2022.pdf', 'id': '72aece049d2c4a765688e9d9748d8e52'}\n"
          ]
        }
      ],
      "source": [
        "from google.cloud import discoveryengine_v1beta as discoveryengine\n",
        "from langchain.retrievers import GoogleCloudEnterpriseSearchRetriever as EnterpriseSearchRetriever\n",
        "\n",
        "QUERY = \"Quien es el CEO de NH?\"\n",
        "\n",
        "# Code your solution here\n",
        "\n",
        "# Initialise an Enterprise Search Retriever\n",
        "retriever = EnterpriseSearchRetriever(\n",
        "    project_id=PROJECT_ID,\n",
        "    search_engine_id=DATA_STORE_ID,)\n",
        "    #max_documents=3, #opt\n",
        "    #max_extractive_answer_count=3, #opt\n",
        "    #get_extractive_answers=True,) #opt\n",
        "\n",
        "# Get relevant documents\n",
        "result = retriever.get_relevant_documents(QUERY)\n",
        "for doc in result:\n",
        "    print(doc)\n"
      ]
    },
    {
      "cell_type": "markdown",
      "id": "22426eb0-0b76-4784-90d2-3f6dda60ec12",
      "metadata": {
        "id": "22426eb0-0b76-4784-90d2-3f6dda60ec12"
      },
      "source": [
        "## Step 4\n",
        "\n",
        "Given a search query, use [Langchain's LLM integration with Vertex AI](https://python.langchain.com/docs/integrations/llms/google_vertex_ai_palm) to send a search query and return an answer with source documents\n",
        "\n",
        "Hint: Use [RetrievalQAWithSourcesChain](https://github.com/GoogleCloudPlatform/generative-ai/blob/main/gen-app-builder/retrieval-augmented-generation/examples/question_answering.ipynb) and refer to the “Helpful resources” at the top of this notebook!\n",
        "\n",
        "Sample query: “Who is the CEO of DeepMind?”"
      ]
    },
    {
      "cell_type": "code",
      "execution_count": 38,
      "id": "42594d94-5c92-4491-adb4-4b8f7e891e70",
      "metadata": {
        "id": "42594d94-5c92-4491-adb4-4b8f7e891e70",
        "executionInfo": {
          "status": "ok",
          "timestamp": 1700443116252,
          "user_tz": -60,
          "elapsed": 4,
          "user": {
            "displayName": "",
            "userId": ""
          }
        }
      },
      "outputs": [],
      "source": [
        "import vertexai\n",
        "from langchain.llms import VertexAI\n",
        "from langchain.retrievers import GoogleCloudEnterpriseSearchRetriever\n",
        "\n",
        "# Code your solution here\n",
        "from langchain.chains import LLMChain\n",
        "from langchain import PromptTemplate\n",
        "import vertexai\n",
        "vertexai.init(project=PROJECT_ID, location=LOCATION)"
      ]
    },
    {
      "cell_type": "markdown",
      "source": [
        "Here we define the parameters for LLM model calls"
      ],
      "metadata": {
        "id": "oydUHs8tT7dF"
      },
      "id": "oydUHs8tT7dF"
    },
    {
      "cell_type": "code",
      "execution_count": 40,
      "id": "Zr061mAseB6C",
      "metadata": {
        "id": "Zr061mAseB6C",
        "executionInfo": {
          "status": "ok",
          "timestamp": 1700443120152,
          "user_tz": -60,
          "elapsed": 2,
          "user": {
            "displayName": "",
            "userId": ""
          }
        }
      },
      "outputs": [],
      "source": [
        "#Initialise LLM\n",
        "LLM_MODEL = \"text-bison@001\" #@param {type: \"string\"}\n",
        "MAX_OUTPUT_TOKENS = 1024 #@param {type: \"integer\"}\n",
        "TEMPERATURE = 0.2 #@param {type: \"number\"}\n",
        "TOP_P = 0.8 #@param {type: \"number\"}\n",
        "TOP_K = 40 #@param {type: \"number\"}\n",
        "VERBOSE = True #@param {type: \"boolean\"}\n",
        "llm_params = dict(\n",
        "    model_name=LLM_MODEL,\n",
        "    max_output_tokens=MAX_OUTPUT_TOKENS,\n",
        "    temperature=TEMPERATURE,\n",
        "    top_p=TOP_P,\n",
        "    top_k=TOP_K,\n",
        "    verbose=VERBOSE,\n",
        ")\n",
        "\n",
        "llm = VertexAI(**llm_params)"
      ]
    },
    {
      "cell_type": "markdown",
      "source": [
        "Sample question for testing"
      ],
      "metadata": {
        "id": "T4dcM7-9ULa7"
      },
      "id": "T4dcM7-9ULa7"
    },
    {
      "cell_type": "code",
      "execution_count": 45,
      "id": "guDxsD8DhVdi",
      "metadata": {
        "id": "guDxsD8DhVdi",
        "executionInfo": {
          "status": "ok",
          "timestamp": 1700443273900,
          "user_tz": -60,
          "elapsed": 1470,
          "user": {
            "displayName": "",
            "userId": ""
          }
        }
      },
      "outputs": [],
      "source": [
        "QUERY = \"Quien es el CEO de NH?\" #@param {type: \"string\"}"
      ]
    },
    {
      "cell_type": "markdown",
      "source": [
        "Here we test the results before productivicing\n"
      ],
      "metadata": {
        "id": "1g_OSrQ5UPcx"
      },
      "id": "1g_OSrQ5UPcx"
    },
    {
      "cell_type": "code",
      "execution_count": 41,
      "id": "dOraYXJYfBHh",
      "metadata": {
        "id": "dOraYXJYfBHh",
        "colab": {
          "base_uri": "https://localhost:8080/"
        },
        "executionInfo": {
          "status": "ok",
          "timestamp": 1700443130289,
          "user_tz": -60,
          "elapsed": 883,
          "user": {
            "displayName": "",
            "userId": ""
          }
        },
        "outputId": "d6ba8634-ff94-4292-8828-2d7365acdb5b"
      },
      "outputs": [
        {
          "output_type": "stream",
          "name": "stdout",
          "text": [
            "\n",
            "\n",
            "\u001b[1m> Entering new LLMChain chain...\u001b[0m\n",
            "Prompt after formatting:\n",
            "\u001b[32;1m\u001b[1;3mPlease parse these search results and summarize them to the answer the following question. Results:['ÍNDICE\\n\\nNUESTRA PRESENCIA EN EL MUNDO 2022\\n\\n99\\n\\nSOBRE EL ESTADO DE INFORMACIÓN NO FINANCIERA CONSOLIDADO\\n\\n100\\n\\nTAXONOMÍA DE ACTIVIDADES SOSTENIBLES DE LA UNIÓN EUROPEA\\n\\n102\\n\\nMENSAJE DEL PRESIDENTE Y DEL CEO\\n\\n108\\n\\n• Mensaje del presidente\\n\\n108\\n\\n• Mensaje del CEO\\n\\n110\\n\\nHITOS 2022\\n\\n113\\n\\nNUESTRA VISIÓN Y CULTURA\\n\\n114\\n\\nMODELO DE NEGOCIO DE NH HOTEL GROUP\\n\\n116\\n\\nESTRATEGIA DE NH HOTEL GROUP\\n\\n121\\n\\nGOBIERNO CORPORATIVO\\n\\n123\\n\\n• Consejo de Administración de NH Hotel Group\\n\\n123\\n\\n• Comisiones del Consejo\\n\\n124\\n\\n• Comité de Dirección\\n\\n126\\n\\n• Remuneración del Consejo y de la Alta Dirección\\n\\n127\\n\\n• Estructura Accionarial\\n\\n128\\n\\nCOMPROMISO ÉTICO Y SISTEMA DE CUMPLIMIENTO\\n\\n130\\n\\nTRANSPARENCIA FISCAL: BENEFICIOS E IMPUESTOS\\n\\n136\\n\\nRELACIÓN CON LOS GOBIERNOS E INFLUENCIA POLÍTICA\\n\\n140\\n\\nSEGURIDAD DE LA INFORMACIÓN\\n\\n141\\n\\nPROTECCIÓN DE LOS DERECHOS HUMANOS\\n\\n144\\n\\n• Debida diligencia de los Derechos Humanos\\n\\n146\\n\\nGESTIÓN DE RIESGOS\\n\\n148\\n\\nRESPUESTA DE NH HOTEL GROUP FRENTE A LOS RIESGOS Y\\nOPORTUNIDADES ASOCIADAS AL CAMBIO CLIMÁTICO EN BASE AL\\nTASK FORCE ON CLIMATE-RELATED FINANCIAL DISCLOSURE (TCFD)\\n\\n163\\n\\nESTRATEGIA DE SUSTAINABLE BUSINESS\\n\\n172\\n\\n• Gobierno de Sustainable Business\\n\\n173\\n\\n• Análisis de Materialidad\\n\\n176\\n\\n• Creación de valor para nuestros grupos de Interés\\n\\n181\\n\\nNH HOTEL GROUP Y LA AGENDA 2030\\n\\n188\\n\\nUP FOR PLANET\\n\\n189\\n\\nPRODUCTOS Y ACTIVOS SOSTENIBLES\\n\\n191\\n\\n• Programa de certificación ambiental\\n\\n191\\n\\n• Plan SBT 2030\\n\\n193\\n\\n• Plan de eficiencia energética\\n\\n196\\n\\nPROCESOS Y ESTÁNDARES OPERATIVOS\\n\\n197\\n\\n• Gestión responsable de la energía\\n\\n197\\n\\n• Gestión responsable del agua\\n\\n199\\n\\n• Gestión de residuos y economía circular\\n\\n200\\n\\n• Gestión de la biodiversidad\\n\\n201\\n\\nESTADO DE INFORMACIÓN NO FINANCIERA CONSOLIDADO 2022\\nMEMORIA DE SOSTENIBILIDAD\\n\\n97']. Question:Quien es el CEO de NH?. Answer:\u001b[0m\n",
            "\n",
            "\u001b[1m> Finished chain.\u001b[0m\n"
          ]
        },
        {
          "output_type": "execute_result",
          "data": {
            "text/plain": [
              "['The CEO of NH Hotel Group is Ramón Aragonés.']"
            ]
          },
          "metadata": {},
          "execution_count": 41
        }
      ],
      "source": [
        "# Combine the LLM with a prompt to make a simple chain\n",
        "PROMPT_STRING = \"Please parse these search results and summarize them to the answer the following question. Results:{results}. Question:{query}. Answer:\"\n",
        "prompt = PromptTemplate(input_variables=['results', 'query'],\n",
        "                        template=PROMPT_STRING)\n",
        "chain = LLMChain(llm=llm, prompt=prompt, verbose=True)\n",
        "\n",
        "# Get relevant documents\n",
        "documents = retriever.get_relevant_documents(QUERY)\n",
        "content = [d.page_content for d in documents]\n",
        "\n",
        "# Use the LLM-prompt chain to answer the question based on the results\n",
        "result = chain.run({'results': content, 'query': QUERY})\n",
        "\n",
        "result.split('\\n')"
      ]
    },
    {
      "cell_type": "markdown",
      "source": [
        "Here we create a function that will be called from Gradio"
      ],
      "metadata": {
        "id": "gkDh0uQ2UjfE"
      },
      "id": "gkDh0uQ2UjfE"
    },
    {
      "cell_type": "code",
      "source": [
        "def data_store_qna(QUERY):\n",
        "\n",
        "  PROMPT_STRING = \"Please parse these search results and summarize them to the answer the following question. Results:{results}. Question:{query}. Answer:\"\n",
        "  prompt = PromptTemplate(input_variables=['results', 'query'],\n",
        "                        template=PROMPT_STRING)\n",
        "  chain = LLMChain(llm=llm, prompt=prompt, verbose=True)\n",
        "\n",
        "# Get relevant documents\n",
        "  documents = retriever.get_relevant_documents(QUERY)\n",
        "  content = [d.page_content for d in documents]\n",
        "\n",
        "# Use the LLM-prompt chain to answer the question based on the results\n",
        "  result = chain.run({'results': content, 'query': QUERY})\n",
        "\n",
        "  result.split('\\n')\n",
        "  return result"
      ],
      "metadata": {
        "id": "MkKQ35V8HT30",
        "executionInfo": {
          "status": "ok",
          "timestamp": 1700443329108,
          "user_tz": -60,
          "elapsed": 3,
          "user": {
            "displayName": "",
            "userId": ""
          }
        }
      },
      "id": "MkKQ35V8HT30",
      "execution_count": 46,
      "outputs": []
    },
    {
      "cell_type": "markdown",
      "source": [
        "Testing the function"
      ],
      "metadata": {
        "id": "bNXiprHtUv6i"
      },
      "id": "bNXiprHtUv6i"
    },
    {
      "cell_type": "code",
      "source": [
        "output=data_store_qna(QUERY)\n",
        "print(output)"
      ],
      "metadata": {
        "id": "iHlDr-QmJD7_",
        "colab": {
          "base_uri": "https://localhost:8080/"
        },
        "executionInfo": {
          "status": "ok",
          "timestamp": 1700443404093,
          "user_tz": -60,
          "elapsed": 845,
          "user": {
            "displayName": "",
            "userId": ""
          }
        },
        "outputId": "4a543c41-1631-44c4-ac28-7f4f29414940"
      },
      "id": "iHlDr-QmJD7_",
      "execution_count": 48,
      "outputs": [
        {
          "output_type": "stream",
          "name": "stdout",
          "text": [
            "\n",
            "\n",
            "\u001b[1m> Entering new LLMChain chain...\u001b[0m\n",
            "Prompt after formatting:\n",
            "\u001b[32;1m\u001b[1;3mPlease parse these search results and summarize them to the answer the following question. Results:['ÍNDICE\\n\\nNUESTRA PRESENCIA EN EL MUNDO 2022\\n\\n99\\n\\nSOBRE EL ESTADO DE INFORMACIÓN NO FINANCIERA CONSOLIDADO\\n\\n100\\n\\nTAXONOMÍA DE ACTIVIDADES SOSTENIBLES DE LA UNIÓN EUROPEA\\n\\n102\\n\\nMENSAJE DEL PRESIDENTE Y DEL CEO\\n\\n108\\n\\n• Mensaje del presidente\\n\\n108\\n\\n• Mensaje del CEO\\n\\n110\\n\\nHITOS 2022\\n\\n113\\n\\nNUESTRA VISIÓN Y CULTURA\\n\\n114\\n\\nMODELO DE NEGOCIO DE NH HOTEL GROUP\\n\\n116\\n\\nESTRATEGIA DE NH HOTEL GROUP\\n\\n121\\n\\nGOBIERNO CORPORATIVO\\n\\n123\\n\\n• Consejo de Administración de NH Hotel Group\\n\\n123\\n\\n• Comisiones del Consejo\\n\\n124\\n\\n• Comité de Dirección\\n\\n126\\n\\n• Remuneración del Consejo y de la Alta Dirección\\n\\n127\\n\\n• Estructura Accionarial\\n\\n128\\n\\nCOMPROMISO ÉTICO Y SISTEMA DE CUMPLIMIENTO\\n\\n130\\n\\nTRANSPARENCIA FISCAL: BENEFICIOS E IMPUESTOS\\n\\n136\\n\\nRELACIÓN CON LOS GOBIERNOS E INFLUENCIA POLÍTICA\\n\\n140\\n\\nSEGURIDAD DE LA INFORMACIÓN\\n\\n141\\n\\nPROTECCIÓN DE LOS DERECHOS HUMANOS\\n\\n144\\n\\n• Debida diligencia de los Derechos Humanos\\n\\n146\\n\\nGESTIÓN DE RIESGOS\\n\\n148\\n\\nRESPUESTA DE NH HOTEL GROUP FRENTE A LOS RIESGOS Y\\nOPORTUNIDADES ASOCIADAS AL CAMBIO CLIMÁTICO EN BASE AL\\nTASK FORCE ON CLIMATE-RELATED FINANCIAL DISCLOSURE (TCFD)\\n\\n163\\n\\nESTRATEGIA DE SUSTAINABLE BUSINESS\\n\\n172\\n\\n• Gobierno de Sustainable Business\\n\\n173\\n\\n• Análisis de Materialidad\\n\\n176\\n\\n• Creación de valor para nuestros grupos de Interés\\n\\n181\\n\\nNH HOTEL GROUP Y LA AGENDA 2030\\n\\n188\\n\\nUP FOR PLANET\\n\\n189\\n\\nPRODUCTOS Y ACTIVOS SOSTENIBLES\\n\\n191\\n\\n• Programa de certificación ambiental\\n\\n191\\n\\n• Plan SBT 2030\\n\\n193\\n\\n• Plan de eficiencia energética\\n\\n196\\n\\nPROCESOS Y ESTÁNDARES OPERATIVOS\\n\\n197\\n\\n• Gestión responsable de la energía\\n\\n197\\n\\n• Gestión responsable del agua\\n\\n199\\n\\n• Gestión de residuos y economía circular\\n\\n200\\n\\n• Gestión de la biodiversidad\\n\\n201\\n\\nESTADO DE INFORMACIÓN NO FINANCIERA CONSOLIDADO 2022\\nMEMORIA DE SOSTENIBILIDAD\\n\\n97']. Question:Quien es el CEO de NH?. Answer:\u001b[0m\n",
            "\n",
            "\u001b[1m> Finished chain.\u001b[0m\n",
            "The CEO of NH is Ramón Aragonés.\n"
          ]
        }
      ]
    },
    {
      "cell_type": "markdown",
      "source": [
        "We import Gradio and create a simple website. It will provide us with an URL that we can use to test it."
      ],
      "metadata": {
        "id": "3YxY6MvYU1pv"
      },
      "id": "3YxY6MvYU1pv"
    },
    {
      "cell_type": "code",
      "source": [
        "import gradio as gr\n",
        "\n",
        "with gr.Blocks() as demo:\n",
        "    gr.Markdown(\n",
        "    \"\"\"\n",
        "    ## Ask Vertex AI Search\n",
        "\n",
        "    This app uses Vertex AI Search Results to answer questions.\n",
        "\n",
        "    ## How to use\n",
        "\n",
        "    1. Enter a question\n",
        "    2. Click on \"Ask the Question\"\n",
        "    3. The answer will be displayed\n",
        "\n",
        "    \"\"\")\n",
        "    with gr.Row():\n",
        "      with gr.Column():\n",
        "        input_text = gr.Textbox(label=\"Question\", placeholder=\"Quién es el CEO de NH?\")\n",
        "    with gr.Row():\n",
        "      generate = gr.Button(\"Ask the Question\")\n",
        "    with gr.Row():\n",
        "      label = gr.Textbox(label=\"Output\")\n",
        "    generate.click(data_store_qna,input_text, [label])\n",
        "demo.launch(share=True, debug=False)\n",
        "\n"
      ],
      "metadata": {
        "colab": {
          "base_uri": "https://localhost:8080/",
          "height": 611
        },
        "id": "XpCkt713MSJk",
        "executionInfo": {
          "status": "ok",
          "timestamp": 1700443476981,
          "user_tz": -60,
          "elapsed": 3014,
          "user": {
            "displayName": "",
            "userId": ""
          }
        },
        "outputId": "293c111f-ced8-41fc-f595-29618b3a5f56"
      },
      "id": "XpCkt713MSJk",
      "execution_count": 49,
      "outputs": [
        {
          "output_type": "stream",
          "name": "stdout",
          "text": [
            "Colab notebook detected. To show errors in colab notebook, set debug=True in launch()\n",
            "Running on public URL: https://d90a11d0d846255f46.gradio.live\n",
            "\n",
            "This share link expires in 72 hours. For free permanent hosting and GPU upgrades, run `gradio deploy` from Terminal to deploy to Spaces (https://huggingface.co/spaces)\n"
          ]
        },
        {
          "output_type": "display_data",
          "data": {
            "text/plain": [
              "<IPython.core.display.HTML object>"
            ],
            "text/html": [
              "<div><iframe src=\"https://d90a11d0d846255f46.gradio.live\" width=\"100%\" height=\"500\" allow=\"autoplay; camera; microphone; clipboard-read; clipboard-write;\" frameborder=\"0\" allowfullscreen></iframe></div>"
            ]
          },
          "metadata": {}
        },
        {
          "output_type": "execute_result",
          "data": {
            "text/plain": []
          },
          "metadata": {},
          "execution_count": 49
        }
      ]
    },
    {
      "cell_type": "code",
      "source": [],
      "metadata": {
        "id": "mCUHDXDfOakI"
      },
      "id": "mCUHDXDfOakI",
      "execution_count": null,
      "outputs": []
    }
  ],
  "metadata": {
    "colab": {
      "provenance": []
    },
    "kernelspec": {
      "display_name": "Python 3 (ipykernel)",
      "language": "python",
      "name": "python3"
    },
    "language_info": {
      "codemirror_mode": {
        "name": "ipython",
        "version": 3
      },
      "file_extension": ".py",
      "mimetype": "text/x-python",
      "name": "python",
      "nbconvert_exporter": "python",
      "pygments_lexer": "ipython3",
      "version": "3.10.6"
    }
  },
  "nbformat": 4,
  "nbformat_minor": 5
}