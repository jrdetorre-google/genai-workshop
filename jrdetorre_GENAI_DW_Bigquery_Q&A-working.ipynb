{
  "cells": [
    {
      "cell_type": "markdown",
      "metadata": {
        "id": "nWKmZBiRSbO7"
      },
      "source": [
        "# **Bigquery Q&A using langchain & LLM (from go/ask-bigquery by nikhilrana@)**\n"
      ]
    },
    {
      "cell_type": "markdown",
      "metadata": {
        "id": "j9BPkBzhTDzn"
      },
      "source": [
        "Demo: This notebook guides you on use of LLM to answer questions over a BQ table.\n",
        "This notebook has also been tested on big datasets(~2 million rows) and works well with low latency.\n",
        "\n",
        "Dataset: Fitbit public dataset from Kaggle (https://www.kaggle.com/datasets/arashnic/fitbit)\n",
        "\n",
        "To use it on your own data, change the parameters in the section \"App parameters initialization\"\n",
        "\n",
        "\n",
        "\n",
        "Example input: What is the average number of steps taken by the user?"
      ]
    },
    {
      "cell_type": "markdown",
      "metadata": {
        "id": "6oFGVUMTJnih"
      },
      "source": [
        "| Date     | Change Log  |\n",
        "|----------|-------------|\n",
        "|5/17/2023 |Added Gradio UI at the end |\n",
        "|5/23/2023 |Changed setup to latest SDK|\n",
        "|5/30/2023 |Modified Prompt template for metadata queries|\n",
        "|5/31/2023 |Successfully tested on multiple SQL joins|\n",
        "|5/31/2023 |Modified prompt template for casting data types for calculations|\n",
        "|3/07/2023 |Changed BI DB to Clickhouse (jcatalu@, juliahernandez@) |\n",
        "|6/07/2023 |Full integration with LangChain (jcatalu@, juliahernandez@) |\n",
        "|6/07/2023 |Updated SDKs to latest Langchain & SQLAlchemy (jcatalu@, juliahernandez@)|\n",
        "4/09/2023 |Updated SQLDatabasechains moved into langchain experimental (juliahernandez@)|\n",
        "16/11/2023 |Fixed library dependencies (juliahernandez@)|\n",
        "\n"
      ]
    },
    {
      "cell_type": "markdown",
      "metadata": {
        "id": "UEv34vVKxR9k"
      },
      "source": [
        "### Install latest Vertex LLM SDK and Python libraries setup"
      ]
    },
    {
      "cell_type": "code",
      "execution_count": 4,
      "metadata": {
        "executionInfo": {
          "elapsed": 2,
          "status": "ok",
          "timestamp": 1700399845355,
          "user": {
            "displayName": "",
            "userId": ""
          },
          "user_tz": -60
        },
        "id": "DtJU7su79db8"
      },
      "outputs": [],
      "source": [
        "# Authenticate with Google account\n",
        "from google.colab import auth as google_auth\n",
        "google_auth.authenticate_user()"
      ]
    },
    {
      "cell_type": "code",
      "execution_count": null,
      "metadata": {
        "id": "lzgVKo1I9h30"
      },
      "outputs": [],
      "source": [
        "!pip3 uninstall -y google-cloud-aiplatform\n",
        "!pip install google-cloud-aiplatform --upgrade\n",
        "\n",
        "\n",
        "### Python libraries setup\n",
        "# Install Python Libraries\n",
        "!pip install langchain\n",
        "!pip install google-cloud-core\n",
        "!pip install gradio==3.48.0\n",
        "\n",
        "# Below libraries are required to build a SQL engine\n",
        "!pip install SQLAlchemy==1.4.50\n",
        "!pip install sqlalchemy-bigquery\n",
        "\n",
        "#Fix dependeny issues\n",
        "!pip install pydantic==1.10.8\n",
        "\n",
        "#SQLDatabasechains have been moved into langchain experimental\n",
        "!pip install -U langchain langchain_experimental"
      ]
    },
    {
      "cell_type": "code",
      "execution_count": null,
      "metadata": {
        "id": "_p0X85UA3aSa"
      },
      "outputs": [],
      "source": [
        "# Load necessary libraries\n",
        "import os\n",
        "if not os.getenv(\"IS_TESTING\"):\n",
        "    # Automatically restart kernel after installs\n",
        "    import IPython\n",
        "    app = IPython.Application.instance()\n",
        "    app.kernel.do_shutdown(True)"
      ]
    },
    {
      "cell_type": "markdown",
      "metadata": {
        "id": "HBQjT-kZOLPn"
      },
      "source": [
        "## **Since the kernel restarted at this point, run the below code individually**"
      ]
    },
    {
      "cell_type": "markdown",
      "metadata": {
        "id": "aDJshtqgxlsI"
      },
      "source": [
        "### LLM Model Initialization & App parameters initialization"
      ]
    },
    {
      "cell_type": "code",
      "execution_count": 5,
      "metadata": {
        "executionInfo": {
          "elapsed": 311,
          "status": "ok",
          "timestamp": 1700399848277,
          "user": {
            "displayName": "",
            "userId": ""
          },
          "user_tz": -60
        },
        "id": "o6eipz3LxgtE"
      },
      "outputs": [],
      "source": [
        "# @title Specify Project details and location of the BQ table\n",
        "\n",
        "project_id = \"qwiklabs-gcp-02-692ce77359c7\"  # @param {type:\"string\"}\n",
        "location = \"us-central1\"  # @param {type:\"string\"}\n",
        "dataset_id = 'fitbit_data' # @param {type:\"string\"}\n",
        "table_name1 = 'user_activity' # @param {type:\"string\"}\n",
        "table_name2 = 'user_location' # @param {type:\"string\"}\n",
        "table_name3 = 'user_weight_final' # @param {type:\"string\"}\n",
        "\n",
        "table_names = (table_name1,table_name2,table_name3)\n"
      ]
    },
    {
      "cell_type": "code",
      "execution_count": 6,
      "metadata": {
        "colab": {
          "base_uri": "https://localhost:8080/"
        },
        "executionInfo": {
          "elapsed": 321,
          "status": "ok",
          "timestamp": 1700399850922,
          "user": {
            "displayName": "",
            "userId": ""
          },
          "user_tz": -60
        },
        "id": "98cYSQ5NhaTm",
        "outputId": "5560c32c-e1c1-497d-b4c5-a23fae9e2ad6"
      },
      "outputs": [
        {
          "name": "stdout",
          "output_type": "stream",
          "text": [
            "Created dataset qwiklabs-gcp-02-692ce77359c7.fitbit_data\n"
          ]
        }
      ],
      "source": [
        "from google.cloud import bigquery\n",
        "\n",
        "# Construct a BigQuery client object.\n",
        "client = bigquery.Client()\n",
        "\n",
        "# Construct a full Dataset object to send to the API.\n",
        "dataset = bigquery.Dataset(f\"{project_id}.{dataset_id}\")\n",
        "\n",
        "# Specify the geographic location where the dataset should reside.\n",
        "dataset.location = \"US\"\n",
        "\n",
        "# Send the dataset to the API for creation, with an explicit timeout.\n",
        "# Raises google.api_core.exceptions.Conflict if the Dataset already\n",
        "# exists within the project.\n",
        "dataset = client.create_dataset(dataset, timeout=30)  # Make an API request.\n",
        "print(\"Created dataset {}.{}\".format(client.project, dataset.dataset_id))"
      ]
    },
    {
      "cell_type": "code",
      "execution_count": 7,
      "metadata": {
        "colab": {
          "base_uri": "https://localhost:8080/"
        },
        "executionInfo": {
          "elapsed": 11075,
          "status": "ok",
          "timestamp": 1700399864396,
          "user": {
            "displayName": "",
            "userId": ""
          },
          "user_tz": -60
        },
        "id": "mFDDfENzdB2s",
        "outputId": "70651fe2-02e4-4346-fdc7-155ec57763ce"
      },
      "outputs": [
        {
          "name": "stdout",
          "output_type": "stream",
          "text": [
            "user_activity: Loaded 940 rows.\n",
            "user_location: Loaded 10 rows.\n",
            "user_weight_final: Loaded 11 rows.\n"
          ]
        }
      ],
      "source": [
        "from google.cloud import bigquery\n",
        "\n",
        "# Construct a BigQuery client object.\n",
        "client = bigquery.Client()\n",
        "\n",
        "# job configuration\n",
        "job_config = bigquery.LoadJobConfig(\n",
        "    source_format=bigquery.SourceFormat.PARQUET,\n",
        ")\n",
        "# load table_name1\n",
        "uri = \"gs://jrdetorre-fitbit-workshop/user_activity.parquet\"\n",
        "table_ref=f\"{project_id}.{dataset_id}.{table_name1}\"\n",
        "load_job = client.load_table_from_uri(\n",
        "    uri, table_ref, job_config=job_config\n",
        ")  # Make an API request.\n",
        "load_job.result()  # Waits for the job to complete.\n",
        "destination_table = client.get_table(table_ref)\n",
        "print(\"{}: Loaded {} rows.\".format(table_name1,destination_table.num_rows))\n",
        "\n",
        "# load table_name2\n",
        "uri = \"gs://jrdetorre-fitbit-workshop/user_location.parquet\"\n",
        "table_ref=f\"{project_id}.{dataset_id}.{table_name2}\"\n",
        "load_job = client.load_table_from_uri(\n",
        "    uri, table_ref, job_config=job_config\n",
        ")  # Make an API request.\n",
        "load_job.result()  # Waits for the job to complete.\n",
        "destination_table = client.get_table(table_ref)\n",
        "print(\"{}: Loaded {} rows.\".format(table_name2,destination_table.num_rows))\n",
        "\n",
        "# load table_name3\n",
        "uri = \"gs://jrdetorre-fitbit-workshop/user_weight_final.parquet\"\n",
        "table_ref=f\"{project_id}.{dataset_id}.{table_name3}\"\n",
        "load_job = client.load_table_from_uri(\n",
        "    uri, table_ref, job_config=job_config\n",
        ")  # Make an API request.\n",
        "load_job.result()  # Waits for the job to complete.\n",
        "destination_table = client.get_table(table_ref)\n",
        "print(\"{}: Loaded {} rows.\".format(table_name3,destination_table.num_rows))\n",
        "\n",
        "\n"
      ]
    },
    {
      "cell_type": "markdown",
      "metadata": {
        "id": "kbhnZbuDl63N"
      },
      "source": [
        "#### Vertex AI LLM Langchain integration"
      ]
    },
    {
      "cell_type": "code",
      "execution_count": 8,
      "metadata": {
        "executionInfo": {
          "elapsed": 8709,
          "status": "ok",
          "timestamp": 1700399873086,
          "user": {
            "displayName": "",
            "userId": ""
          },
          "user_tz": -60
        },
        "id": "jZmHNbUnmB7G"
      },
      "outputs": [],
      "source": [
        "# Langchain\n",
        "from langchain.llms import VertexAI\n",
        "\n",
        "#Initialize Vertex\n",
        "import vertexai\n",
        "vertexai.init(project=project_id, location=location)\n",
        "\n",
        "# LLM model\n",
        "llm = VertexAI(\n",
        "    model_name='text-bison@001',\n",
        "    max_output_tokens=256,\n",
        "    temperature=0,\n",
        "    top_p=0.8,top_k=40,\n",
        "    verbose=True,\n",
        ")"
      ]
    },
    {
      "cell_type": "markdown",
      "metadata": {
        "id": "1wsm58awLYrv"
      },
      "source": [
        "## BQ integration"
      ]
    },
    {
      "cell_type": "markdown",
      "metadata": {
        "id": "wCQl4S2lLhkW"
      },
      "source": [
        "### Create SQL engine for BigQuery"
      ]
    },
    {
      "cell_type": "code",
      "execution_count": 9,
      "metadata": {
        "executionInfo": {
          "elapsed": 849,
          "status": "ok",
          "timestamp": 1700399884503,
          "user": {
            "displayName": "",
            "userId": ""
          },
          "user_tz": -60
        },
        "id": "3R4d0NhVLhkW"
      },
      "outputs": [],
      "source": [
        "from sqlalchemy import *\n",
        "from sqlalchemy.engine import create_engine\n",
        "from sqlalchemy.schema import *\n",
        "import pandas as pd"
      ]
    },
    {
      "cell_type": "code",
      "execution_count": 14,
      "metadata": {
        "executionInfo": {
          "elapsed": 335,
          "status": "ok",
          "timestamp": 1700399921715,
          "user": {
            "displayName": "",
            "userId": ""
          },
          "user_tz": -60
        },
        "id": "vWHjVV9SLhkW"
      },
      "outputs": [],
      "source": [
        "table_uri = f\"bigquery://{project_id}/{dataset_id}\"\n",
        "engine = create_engine(table_uri)"
      ]
    },
    {
      "cell_type": "code",
      "execution_count": 15,
      "metadata": {
        "colab": {
          "base_uri": "https://localhost:8080/"
        },
        "executionInfo": {
          "elapsed": 2104,
          "status": "ok",
          "timestamp": 1700399924437,
          "user": {
            "displayName": "",
            "userId": ""
          },
          "user_tz": -60
        },
        "id": "p25-GHviLhkg",
        "outputId": "41bc2316-4b17-4d85-fadd-cfbd9ba38925"
      },
      "outputs": [
        {
          "data": {
            "text/plain": [
              "(8053475328, datetime.date(2016, 4, 30), 7135, 5.59000015258789, 5.59000015258789, 0.0, 2.99000000953674, 0.0599999986588955, 2.53999996185303, 0.0, 27, 1, 131, 1281, 2408)"
            ]
          },
          "execution_count": 15,
          "metadata": {},
          "output_type": "execute_result"
        }
      ],
      "source": [
        "query=f\"\"\"SELECT * FROM `{project_id}.{dataset_id}.{table_name1}`\"\"\"\n",
        "engine.execute(query).first()"
      ]
    },
    {
      "cell_type": "code",
      "execution_count": 16,
      "metadata": {
        "colab": {
          "base_uri": "https://localhost:8080/"
        },
        "executionInfo": {
          "elapsed": 888,
          "status": "ok",
          "timestamp": 1700399925322,
          "user": {
            "displayName": "",
            "userId": ""
          },
          "user_tz": -60
        },
        "id": "5BdH6zhCLhkh",
        "outputId": "9c88e14d-dd9d-4f5e-d9f1-6d1c24fece8d"
      },
      "outputs": [
        {
          "data": {
            "text/plain": [
              "(7086361926, 'Leeds', 'UK')"
            ]
          },
          "execution_count": 16,
          "metadata": {},
          "output_type": "execute_result"
        }
      ],
      "source": [
        "query=f\"\"\"SELECT * FROM `{project_id}.{dataset_id}.{table_name2}`\"\"\"\n",
        "engine.execute(query).first()"
      ]
    },
    {
      "cell_type": "code",
      "execution_count": 17,
      "metadata": {
        "colab": {
          "base_uri": "https://localhost:8080/"
        },
        "executionInfo": {
          "elapsed": 335,
          "status": "ok",
          "timestamp": 1700399925654,
          "user": {
            "displayName": "",
            "userId": ""
          },
          "user_tz": -60
        },
        "id": "ycbXzP2bLhkh",
        "outputId": "a09c2e89-227f-497d-d63e-5c71c4807fdc"
      },
      "outputs": [
        {
          "data": {
            "text/plain": [
              "('27.25', datetime.date(2016, 4, 18), None, 4388161847, True, 1461023999000, 69.6999969482422, 153.662190014971)"
            ]
          },
          "execution_count": 17,
          "metadata": {},
          "output_type": "execute_result"
        }
      ],
      "source": [
        "query=f\"\"\"SELECT * FROM `{project_id}.{dataset_id}.{table_name3}`\"\"\"\n",
        "engine.execute(query).first()"
      ]
    },
    {
      "cell_type": "markdown",
      "metadata": {
        "id": "mEfXxoT1Lhkh"
      },
      "source": [
        "### SQL Chain setup for LLM"
      ]
    },
    {
      "cell_type": "code",
      "execution_count": 18,
      "metadata": {
        "executionInfo": {
          "elapsed": 1524,
          "status": "ok",
          "timestamp": 1700399930819,
          "user": {
            "displayName": "",
            "userId": ""
          },
          "user_tz": -60
        },
        "id": "qBO9DT4wLhkh"
      },
      "outputs": [],
      "source": [
        "from langchain import SQLDatabase#, SQLDatabaseChain\n",
        "from langchain_experimental.sql import SQLDatabaseChain #SQLDatabasechains have been moved into langchain experimental\n",
        "from langchain.prompts.prompt import PromptTemplate\n",
        "\n",
        "def bq_qna(question):\n",
        "  #create SQLDatabase instance from BQ engine\n",
        "  db = SQLDatabase(engine=engine,metadata=MetaData(bind=engine),include_tables=[x for x in table_names])\n",
        "\n",
        "  #create SQL DB Chain with the initialized LLM and above SQLDB instance\n",
        "  db_chain = SQLDatabaseChain.from_llm(llm, db, verbose=True, return_intermediate_steps=True)\n",
        "\n",
        "  #Define prompt for BigQuery SQL\n",
        "  _googlesql_prompt = \"\"\"You are a GoogleSQL expert. Given an input question, first create a syntactically correct GoogleSQL query to run, then look at the results of the query and return the answer to the input question.\n",
        "  Unless the user specifies in the question a specific number of examples to obtain, query for at most {top_k} results using the LIMIT clause as per GoogleSQL. You can order the results to return the most informative data in the database.\n",
        "  Never query for all columns from a table. You must query only the columns that are needed to answer the question. Wrap each column name in backticks (`) to denote them as delimited identifiers.\n",
        "  Pay attention to use only the column names you can see in the tables below. Be careful to not query for columns that do not exist. Also, pay attention to which column is in which table.\n",
        "  Use the following format:\n",
        "  Question: \"Question here\"\n",
        "  SQLQuery: \"SQL Query to run\"\n",
        "  SQLResult: \"Result of the SQLQuery\"\n",
        "  Answer: \"Final answer here\"\n",
        "  Only use the following tables:\n",
        "  {table_info}\n",
        "\n",
        "  If someone asks for aggregation on a STRING data type column, then CAST column as NUMERIC before you do the aggregation.\n",
        "\n",
        "  If someone asks for specific month, use ActivityDate between current month's start date and current month's end date\n",
        "\n",
        "  If someone asks for column names in the table, use the following format:\n",
        "  SELECT column_name\n",
        "  FROM `{project_id}.{dataset_id}`.INFORMATION_SCHEMA.COLUMNS\n",
        "  WHERE table_name in {table_info}\n",
        "\n",
        "  Question: {input}\"\"\"\n",
        "\n",
        "  GOOGLESQL_PROMPT = PromptTemplate(\n",
        "      input_variables=[\"input\", \"table_info\", \"top_k\", \"project_id\", \"dataset_id\"],\n",
        "      template=_googlesql_prompt,\n",
        "  )\n",
        "\n",
        "  #passing question to the prompt template\n",
        "  final_prompt = GOOGLESQL_PROMPT.format(input=question, project_id =project_id, dataset_id=dataset_id, table_info=table_names, top_k=10000)\n",
        "\n",
        "  #pass final prompt to SQL Chain\n",
        "  output = db_chain(final_prompt)\n",
        "\n",
        "\n",
        "  return output['result'], output['intermediate_steps'][1]\n"
      ]
    },
    {
      "cell_type": "markdown",
      "metadata": {
        "id": "KGsDF7WwLhki"
      },
      "source": [
        "### Testing the setup"
      ]
    },
    {
      "cell_type": "code",
      "execution_count": 19,
      "metadata": {
        "colab": {
          "base_uri": "https://localhost:8080/"
        },
        "executionInfo": {
          "elapsed": 8755,
          "status": "ok",
          "timestamp": 1700399946385,
          "user": {
            "displayName": "",
            "userId": ""
          },
          "user_tz": -60
        },
        "id": "vii58-HkLhki",
        "outputId": "e2fbe661-dffb-4219-aa8e-6c76b5a4a951"
      },
      "outputs": [
        {
          "name": "stdout",
          "output_type": "stream",
          "text": [
            "\n",
            "\n",
            "\u001b[1m> Entering new SQLDatabaseChain chain...\u001b[0m\n",
            "You are a GoogleSQL expert. Given an input question, first create a syntactically correct GoogleSQL query to run, then look at the results of the query and return the answer to the input question.\n",
            "  Unless the user specifies in the question a specific number of examples to obtain, query for at most 10000 results using the LIMIT clause as per GoogleSQL. You can order the results to return the most informative data in the database.\n",
            "  Never query for all columns from a table. You must query only the columns that are needed to answer the question. Wrap each column name in backticks (`) to denote them as delimited identifiers.\n",
            "  Pay attention to use only the column names you can see in the tables below. Be careful to not query for columns that do not exist. Also, pay attention to which column is in which table.\n",
            "  Use the following format:\n",
            "  Question: \"Question here\"\n",
            "  SQLQuery: \"SQL Query to run\"\n",
            "  SQLResult: \"Result of the SQLQuery\"\n",
            "  Answer: \"Final answer here\"\n",
            "  Only use the following tables:\n",
            "  ('user_activity', 'user_location', 'user_weight_final')\n",
            "\n",
            "  If someone asks for aggregation on a STRING data type column, then CAST column as NUMERIC before you do the aggregation.\n",
            "\n",
            "  If someone asks for specific month, use ActivityDate between current month's start date and current month's end date\n",
            "\n",
            "  If someone asks for column names in the table, use the following format:\n",
            "  SELECT column_name\n",
            "  FROM `qwiklabs-gcp-02-692ce77359c7.fitbit_data`.INFORMATION_SCHEMA.COLUMNS\n",
            "  WHERE table_name in ('user_activity', 'user_location', 'user_weight_final')\n",
            "\n",
            "  Question: what is the minimum number of TotalSteps for Id 1644430081\n",
            "SQLQuery:\u001b[32;1m\u001b[1;3mSELECT MIN(TotalSteps) FROM `qwiklabs-gcp-02-692ce77359c7.fitbit_data.user_activity` WHERE Id = 1644430081\u001b[0m\n",
            "SQLResult: \u001b[33;1m\u001b[1;3m[(1223,)]\u001b[0m\n",
            "Answer:\u001b[32;1m\u001b[1;3m1223\u001b[0m\n",
            "\u001b[1m> Finished chain.\u001b[0m\n"
          ]
        },
        {
          "data": {
            "text/plain": [
              "('1223',\n",
              " 'SELECT MIN(TotalSteps) FROM `qwiklabs-gcp-02-692ce77359c7.fitbit_data.user_activity` WHERE Id = 1644430081')"
            ]
          },
          "execution_count": 19,
          "metadata": {},
          "output_type": "execute_result"
        }
      ],
      "source": [
        "#Testing 1\n",
        "bq_qna('what is the minimum number of TotalSteps for Id 1644430081')"
      ]
    },
    {
      "cell_type": "code",
      "execution_count": 20,
      "metadata": {
        "colab": {
          "base_uri": "https://localhost:8080/"
        },
        "executionInfo": {
          "elapsed": 6428,
          "status": "ok",
          "timestamp": 1700399952796,
          "user": {
            "displayName": "",
            "userId": ""
          },
          "user_tz": -60
        },
        "id": "f5PInaQwLhki",
        "outputId": "0f09e8f2-b52d-4fb9-f138-771cac35ea9a"
      },
      "outputs": [
        {
          "name": "stdout",
          "output_type": "stream",
          "text": [
            "\n",
            "\n",
            "\u001b[1m> Entering new SQLDatabaseChain chain...\u001b[0m\n",
            "You are a GoogleSQL expert. Given an input question, first create a syntactically correct GoogleSQL query to run, then look at the results of the query and return the answer to the input question.\n",
            "  Unless the user specifies in the question a specific number of examples to obtain, query for at most 10000 results using the LIMIT clause as per GoogleSQL. You can order the results to return the most informative data in the database.\n",
            "  Never query for all columns from a table. You must query only the columns that are needed to answer the question. Wrap each column name in backticks (`) to denote them as delimited identifiers.\n",
            "  Pay attention to use only the column names you can see in the tables below. Be careful to not query for columns that do not exist. Also, pay attention to which column is in which table.\n",
            "  Use the following format:\n",
            "  Question: \"Question here\"\n",
            "  SQLQuery: \"SQL Query to run\"\n",
            "  SQLResult: \"Result of the SQLQuery\"\n",
            "  Answer: \"Final answer here\"\n",
            "  Only use the following tables:\n",
            "  ('user_activity', 'user_location', 'user_weight_final')\n",
            "\n",
            "  If someone asks for aggregation on a STRING data type column, then CAST column as NUMERIC before you do the aggregation.\n",
            "\n",
            "  If someone asks for specific month, use ActivityDate between current month's start date and current month's end date\n",
            "\n",
            "  If someone asks for column names in the table, use the following format:\n",
            "  SELECT column_name\n",
            "  FROM `qwiklabs-gcp-02-692ce77359c7.fitbit_data`.INFORMATION_SCHEMA.COLUMNS\n",
            "  WHERE table_name in ('user_activity', 'user_location', 'user_weight_final')\n",
            "\n",
            "  Question: what is the highest number of Calories burnt in the month of May by 1644430081\n",
            "SQLQuery:\u001b[32;1m\u001b[1;3mSELECT MAX(Calories) FROM `qwiklabs-gcp-02-692ce77359c7.fitbit_data.user_activity` WHERE ActivityDate BETWEEN '2016-05-01' AND '2016-05-31' AND Id = 1644430081\u001b[0m\n",
            "SQLResult: \u001b[33;1m\u001b[1;3m[(3404,)]\u001b[0m\n",
            "Answer:\u001b[32;1m\u001b[1;3m3404\u001b[0m\n",
            "\u001b[1m> Finished chain.\u001b[0m\n"
          ]
        },
        {
          "data": {
            "text/plain": [
              "('3404',\n",
              " \"SELECT MAX(Calories) FROM `qwiklabs-gcp-02-692ce77359c7.fitbit_data.user_activity` WHERE ActivityDate BETWEEN '2016-05-01' AND '2016-05-31' AND Id = 1644430081\")"
            ]
          },
          "execution_count": 20,
          "metadata": {},
          "output_type": "execute_result"
        }
      ],
      "source": [
        "#Testing 2\n",
        "bq_qna('what is the highest number of Calories burnt in the month of May by 1644430081')"
      ]
    },
    {
      "cell_type": "code",
      "execution_count": null,
      "metadata": {
        "id": "78z0zs8cLdJ0"
      },
      "outputs": [],
      "source": [
        "#Testing 3 - Metadata queries\n",
        "bq_qna('what are the columns in the table user_activity')"
      ]
    },
    {
      "cell_type": "code",
      "execution_count": 22,
      "metadata": {
        "colab": {
          "base_uri": "https://localhost:8080/"
        },
        "executionInfo": {
          "elapsed": 7210,
          "status": "ok",
          "timestamp": 1700400179999,
          "user": {
            "displayName": "",
            "userId": ""
          },
          "user_tz": -60
        },
        "id": "JbHnmWk1Lhki",
        "outputId": "f85fdc5a-699f-4c4c-eac4-3dbebd9ef312"
      },
      "outputs": [
        {
          "name": "stdout",
          "output_type": "stream",
          "text": [
            "\n",
            "\n",
            "\u001b[1m> Entering new SQLDatabaseChain chain...\u001b[0m\n",
            "You are a GoogleSQL expert. Given an input question, first create a syntactically correct GoogleSQL query to run, then look at the results of the query and return the answer to the input question.\n",
            "  Unless the user specifies in the question a specific number of examples to obtain, query for at most 10000 results using the LIMIT clause as per GoogleSQL. You can order the results to return the most informative data in the database.\n",
            "  Never query for all columns from a table. You must query only the columns that are needed to answer the question. Wrap each column name in backticks (`) to denote them as delimited identifiers.\n",
            "  Pay attention to use only the column names you can see in the tables below. Be careful to not query for columns that do not exist. Also, pay attention to which column is in which table.\n",
            "  Use the following format:\n",
            "  Question: \"Question here\"\n",
            "  SQLQuery: \"SQL Query to run\"\n",
            "  SQLResult: \"Result of the SQLQuery\"\n",
            "  Answer: \"Final answer here\"\n",
            "  Only use the following tables:\n",
            "  ('user_activity', 'user_location', 'user_weight_final')\n",
            "\n",
            "  If someone asks for aggregation on a STRING data type column, then CAST column as NUMERIC before you do the aggregation.\n",
            "\n",
            "  If someone asks for specific month, use ActivityDate between current month's start date and current month's end date\n",
            "\n",
            "  If someone asks for column names in the table, use the following format:\n",
            "  SELECT column_name\n",
            "  FROM `qwiklabs-gcp-02-692ce77359c7.fitbit_data`.INFORMATION_SCHEMA.COLUMNS\n",
            "  WHERE table_name in ('user_activity', 'user_location', 'user_weight_final')\n",
            "\n",
            "  Question: what is the average weight of users living in Mumbai\n",
            "SQLQuery:\u001b[32;1m\u001b[1;3mSELECT AVG(WeightKg) FROM `qwiklabs-gcp-02-692ce77359c7.fitbit_data.user_weight_final` AS t1 JOIN `qwiklabs-gcp-02-692ce77359c7.fitbit_data.user_location` AS t2 ON t1.Id = t2.Id WHERE t2.City = 'Mumbai'\u001b[0m\n",
            "SQLResult: \u001b[33;1m\u001b[1;3m[(52.5999984741211,)]\u001b[0m\n",
            "Answer:\u001b[32;1m\u001b[1;3m52.5999984741211\u001b[0m\n",
            "\u001b[1m> Finished chain.\u001b[0m\n"
          ]
        },
        {
          "data": {
            "text/plain": [
              "('52.5999984741211',\n",
              " \"SELECT AVG(WeightKg) FROM `qwiklabs-gcp-02-692ce77359c7.fitbit_data.user_weight_final` AS t1 JOIN `qwiklabs-gcp-02-692ce77359c7.fitbit_data.user_location` AS t2 ON t1.Id = t2.Id WHERE t2.City = 'Mumbai'\")"
            ]
          },
          "execution_count": 22,
          "metadata": {},
          "output_type": "execute_result"
        }
      ],
      "source": [
        "#Testing 4 - Joins\n",
        "bq_qna('what is the average weight of users living in Mumbai')"
      ]
    },
    {
      "cell_type": "code",
      "execution_count": null,
      "metadata": {
        "id": "WIXHuj5VLhkj"
      },
      "outputs": [],
      "source": [
        "#Testing 5 - Joins\n",
        "bq_qna(\"\"\"give me lowest steps and weight for user living in Mumbai. I also want their ID\"\"\")"
      ]
    },
    {
      "cell_type": "code",
      "execution_count": null,
      "metadata": {
        "id": "7RceDIi2Lhkj"
      },
      "outputs": [],
      "source": [
        "#Testing 6 - Casting data type\n",
        "bq_qna(\"\"\"whats the average BMI of users living in India\"\"\")"
      ]
    },
    {
      "cell_type": "markdown",
      "metadata": {
        "id": "VPorcdQiLhkj"
      },
      "source": [
        "### UI for Demo"
      ]
    },
    {
      "cell_type": "code",
      "execution_count": 21,
      "metadata": {
        "colab": {
          "base_uri": "https://localhost:8080/",
          "height": 591
        },
        "executionInfo": {
          "elapsed": 7533,
          "status": "ok",
          "timestamp": 1700399965876,
          "user": {
            "displayName": "",
            "userId": ""
          },
          "user_tz": -60
        },
        "id": "U0774W42Lhkj",
        "outputId": "399b3b11-a3da-4975-b636-127fa27a5265"
      },
      "outputs": [
        {
          "name": "stdout",
          "output_type": "stream",
          "text": [
            "Colab notebook detected. To show errors in colab notebook, set debug=True in launch()\n",
            "Running on public URL: https://55a006b67ba84e2f4c.gradio.live\n",
            "\n",
            "This share link expires in 72 hours. For free permanent hosting and GPU upgrades, run `gradio deploy` from Terminal to deploy to Spaces (https://huggingface.co/spaces)\n"
          ]
        },
        {
          "data": {
            "text/html": [
              "<div><iframe src=\"https://55a006b67ba84e2f4c.gradio.live\" width=\"100%\" height=\"500\" allow=\"autoplay; camera; microphone; clipboard-read; clipboard-write;\" frameborder=\"0\" allowfullscreen></iframe></div>"
            ],
            "text/plain": [
              "<IPython.core.display.HTML object>"
            ]
          },
          "metadata": {},
          "output_type": "display_data"
        },
        {
          "data": {
            "text/plain": []
          },
          "execution_count": 21,
          "metadata": {},
          "output_type": "execute_result"
        }
      ],
      "source": [
        "import gradio as gr\n",
        "\n",
        "with gr.Blocks() as demo:\n",
        "    gr.Markdown(\n",
        "    \"\"\"\n",
        "    ## Ask BigQuery\n",
        "\n",
        "    This demo is to showcase answering questions on a tabular data available in Big Query using Vertex PALM LLM & Langchain.\n",
        "\n",
        "    This demo uses a sample public dataset from Kaggle (https://www.kaggle.com/datasets/arashnic/fitbit)\n",
        "\n",
        "    ### Sample Inputs:\n",
        "    1. what is the minimum number of steps taken by user 1644430081 ?\n",
        "    2. what is the average steps covered by 1644430081?\n",
        "    3. what is the highest number of Calories burnt in the month of May by 1644430081 ?\n",
        "\n",
        "    ### Enter a search query...\n",
        "\n",
        "    \"\"\")\n",
        "    with gr.Row():\n",
        "      with gr.Column():\n",
        "        input_text = gr.Textbox(label=\"Question\", placeholder=\"what is the minimum steps taken by 1644430081\")\n",
        "\n",
        "    with gr.Row():\n",
        "      generate = gr.Button(\"Ask BigQuery\")\n",
        "\n",
        "    with gr.Row():\n",
        "      label2 = gr.Textbox(label=\"Output\")\n",
        "    with gr.Row():\n",
        "      label3 = gr.Textbox(label=\"SQL query generated by LLM\")\n",
        "\n",
        "    generate.click(bq_qna,input_text, [label2, label3])\n",
        "demo.launch(share=True, debug=False)"
      ]
    },
    {
      "cell_type": "code",
      "execution_count": null,
      "metadata": {
        "id": "ZISScXIyRYIf"
      },
      "outputs": [],
      "source": []
    }
  ],
  "metadata": {
    "colab": {
      "provenance": []
    },
    "kernelspec": {
      "display_name": "Python 3",
      "name": "python3"
    },
    "language_info": {
      "name": "python"
    }
  },
  "nbformat": 4,
  "nbformat_minor": 0
}
